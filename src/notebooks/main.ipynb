{
 "cells": [
  {
   "cell_type": "code",
   "execution_count": 22,
   "id": "d1422a25-2a67-4e3f-822a-ab929099c451",
   "metadata": {},
   "outputs": [],
   "source": [
    "#Use os and sys to setup a relative path to the current working directory in order to make python modules import easier.\n",
    "import os\n",
    "import sys\n",
    "sys.path.append(os.path.join(os.path.dirname('__file__'), 'scripts'))"
   ]
  },
  {
   "cell_type": "code",
   "execution_count": 23,
   "id": "b548c9dc-66b8-47d1-a929-45df61588740",
   "metadata": {},
   "outputs": [],
   "source": [
    "from scripts import *"
   ]
  },
  {
   "cell_type": "code",
   "execution_count": 1,
   "id": "3ffb4d8f-838c-4482-9745-6bc76ac91e23",
   "metadata": {},
   "outputs": [],
   "source": [
    "import pandas as pd"
   ]
  },
  {
   "cell_type": "code",
   "execution_count": 2,
   "id": "c81731bc-ab26-4bb6-9023-66de6cbdf3a0",
   "metadata": {},
   "outputs": [],
   "source": [
    "data = pd.read_csv(\"../ressources/data.csv\")"
   ]
  },
  {
   "cell_type": "code",
   "execution_count": 19,
   "id": "1c4e0b8f-1681-437e-b7bb-5354d4f95cf0",
   "metadata": {},
   "outputs": [],
   "source": [
    "df = data.copy()"
   ]
  },
  {
   "cell_type": "code",
   "execution_count": 16,
   "id": "351b199f-cbcd-4bd7-9b6b-5b3323f955d6",
   "metadata": {},
   "outputs": [],
   "source": [
    "#df.drop(columns=df.columns[[0, 1, 2]], axis=1, inplace=True)"
   ]
  },
  {
   "cell_type": "code",
   "execution_count": null,
   "id": "26ae1076-6395-4178-b72a-3831cd499662",
   "metadata": {},
   "outputs": [],
   "source": [
    "col_name = \"Comment l’eau est-elle stockée ?\"\n",
    "values = {\"Gallon\":\"Gallon\", \n",
    "          \"Seau avec robinet\":\"Bucket with tap\",\n",
    "          \"Seau avec louche ou petit gobelet\":\"Bucket with ladle or small cup\", \n",
    "          \"citerne / Réservoir\":\"Cistern / Reservoir\",\n",
    "          \"Autre\":\"Other\",\n",
    "         }\n",
    "\n",
    "w_col = rename_col_with_multiple_values(dff, col_name, values)\n",
    "dff[\"How is water stored?\"] = w_col\n",
    "dff.drop([col_name], axis=1, inplace=True)"
   ]
  },
  {
   "cell_type": "code",
   "execution_count": null,
   "id": "83f546d0-c019-42a5-974e-655b8914e936",
   "metadata": {},
   "outputs": [],
   "source": []
  }
 ],
 "metadata": {
  "kernelspec": {
   "display_name": "Python 3 (ipykernel)",
   "language": "python",
   "name": "python3"
  },
  "language_info": {
   "codemirror_mode": {
    "name": "ipython",
    "version": 3
   },
   "file_extension": ".py",
   "mimetype": "text/x-python",
   "name": "python",
   "nbconvert_exporter": "python",
   "pygments_lexer": "ipython3",
   "version": "3.10.4"
  }
 },
 "nbformat": 4,
 "nbformat_minor": 5
}
